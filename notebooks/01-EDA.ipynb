{
 "cells": [
  {
   "cell_type": "code",
   "execution_count": 1,
   "metadata": {},
   "outputs": [],
   "source": [
    "import numpy as np\n",
    "import pandas as pd\n",
    "import matplotlib.pyplot as plt\n",
    "import seaborn as sns\n",
    "sns.set_theme()\n",
    "sns.set_context(context='notebook')"
   ]
  },
  {
   "cell_type": "code",
   "execution_count": 2,
   "metadata": {},
   "outputs": [
    {
     "data": {
      "text/html": [
       "<div>\n",
       "<style scoped>\n",
       "    .dataframe tbody tr th:only-of-type {\n",
       "        vertical-align: middle;\n",
       "    }\n",
       "\n",
       "    .dataframe tbody tr th {\n",
       "        vertical-align: top;\n",
       "    }\n",
       "\n",
       "    .dataframe thead th {\n",
       "        text-align: right;\n",
       "    }\n",
       "</style>\n",
       "<table border=\"1\" class=\"dataframe\">\n",
       "  <thead>\n",
       "    <tr style=\"text-align: right;\">\n",
       "      <th></th>\n",
       "      <th>token</th>\n",
       "      <th>winning_team</th>\n",
       "      <th>mirror</th>\n",
       "      <th>ladder</th>\n",
       "      <th>patch</th>\n",
       "      <th>average_rating</th>\n",
       "      <th>map</th>\n",
       "      <th>map_size</th>\n",
       "      <th>num_players</th>\n",
       "      <th>server</th>\n",
       "      <th>duration</th>\n",
       "    </tr>\n",
       "  </thead>\n",
       "  <tbody>\n",
       "    <tr>\n",
       "      <th>0</th>\n",
       "      <td>B2c2Ad6Uf6TVL5uk</td>\n",
       "      <td>2</td>\n",
       "      <td>False</td>\n",
       "      <td>RM_1v1</td>\n",
       "      <td>39515</td>\n",
       "      <td>1575.0</td>\n",
       "      <td>arabia</td>\n",
       "      <td>tiny</td>\n",
       "      <td>2</td>\n",
       "      <td>brazilsouth</td>\n",
       "      <td>0:23:30</td>\n",
       "    </tr>\n",
       "    <tr>\n",
       "      <th>1</th>\n",
       "      <td>eb8WdcbYlpeFLnoc</td>\n",
       "      <td>2</td>\n",
       "      <td>False</td>\n",
       "      <td>RM_TEAM</td>\n",
       "      <td>39515</td>\n",
       "      <td>2187.0</td>\n",
       "      <td>arabia</td>\n",
       "      <td>large</td>\n",
       "      <td>8</td>\n",
       "      <td>eastus</td>\n",
       "      <td>0:32:48</td>\n",
       "    </tr>\n",
       "    <tr>\n",
       "      <th>2</th>\n",
       "      <td>tphUBvZ8eZBmai0L</td>\n",
       "      <td>2</td>\n",
       "      <td>False</td>\n",
       "      <td>RM_TEAM</td>\n",
       "      <td>39515</td>\n",
       "      <td>2450.0</td>\n",
       "      <td>megarandom</td>\n",
       "      <td>large</td>\n",
       "      <td>8</td>\n",
       "      <td>brazilsouth</td>\n",
       "      <td>0:33:08</td>\n",
       "    </tr>\n",
       "    <tr>\n",
       "      <th>3</th>\n",
       "      <td>Kmhn0HZ8o8WwdXV9</td>\n",
       "      <td>1</td>\n",
       "      <td>False</td>\n",
       "      <td>RM_TEAM</td>\n",
       "      <td>39515</td>\n",
       "      <td>2387.0</td>\n",
       "      <td>arabia</td>\n",
       "      <td>large</td>\n",
       "      <td>8</td>\n",
       "      <td>ukwest</td>\n",
       "      <td>0:25:51</td>\n",
       "    </tr>\n",
       "    <tr>\n",
       "      <th>4</th>\n",
       "      <td>U198Wdc3kzJPBVqh</td>\n",
       "      <td>1</td>\n",
       "      <td>False</td>\n",
       "      <td>RM_1v1</td>\n",
       "      <td>37906</td>\n",
       "      <td>1095.0</td>\n",
       "      <td>acropolis</td>\n",
       "      <td>tiny</td>\n",
       "      <td>2</td>\n",
       "      <td>eastus</td>\n",
       "      <td>0:40:55</td>\n",
       "    </tr>\n",
       "  </tbody>\n",
       "</table>\n",
       "</div>"
      ],
      "text/plain": [
       "              token  winning_team  mirror   ladder  patch  average_rating  \\\n",
       "0  B2c2Ad6Uf6TVL5uk             2   False   RM_1v1  39515          1575.0   \n",
       "1  eb8WdcbYlpeFLnoc             2   False  RM_TEAM  39515          2187.0   \n",
       "2  tphUBvZ8eZBmai0L             2   False  RM_TEAM  39515          2450.0   \n",
       "3  Kmhn0HZ8o8WwdXV9             1   False  RM_TEAM  39515          2387.0   \n",
       "4  U198Wdc3kzJPBVqh             1   False   RM_1v1  37906          1095.0   \n",
       "\n",
       "          map map_size  num_players       server duration  \n",
       "0      arabia     tiny            2  brazilsouth  0:23:30  \n",
       "1      arabia    large            8       eastus  0:32:48  \n",
       "2  megarandom    large            8  brazilsouth  0:33:08  \n",
       "3      arabia    large            8       ukwest  0:25:51  \n",
       "4   acropolis     tiny            2       eastus  0:40:55  "
      ]
     },
     "execution_count": 2,
     "metadata": {},
     "output_type": "execute_result"
    }
   ],
   "source": [
    "matches_df = pd.read_csv('../data/raw/matches.csv')\n",
    "matches_df.head()"
   ]
  },
  {
   "cell_type": "code",
   "execution_count": 3,
   "metadata": {},
   "outputs": [
    {
     "data": {
      "text/html": [
       "<div>\n",
       "<style scoped>\n",
       "    .dataframe tbody tr th:only-of-type {\n",
       "        vertical-align: middle;\n",
       "    }\n",
       "\n",
       "    .dataframe tbody tr th {\n",
       "        vertical-align: top;\n",
       "    }\n",
       "\n",
       "    .dataframe thead th {\n",
       "        text-align: right;\n",
       "    }\n",
       "</style>\n",
       "<table border=\"1\" class=\"dataframe\">\n",
       "  <thead>\n",
       "    <tr style=\"text-align: right;\">\n",
       "      <th></th>\n",
       "      <th>token</th>\n",
       "      <th>match</th>\n",
       "      <th>rating</th>\n",
       "      <th>color</th>\n",
       "      <th>civ</th>\n",
       "      <th>team</th>\n",
       "      <th>winner</th>\n",
       "    </tr>\n",
       "  </thead>\n",
       "  <tbody>\n",
       "    <tr>\n",
       "      <th>0</th>\n",
       "      <td>rFWxLAdY6TF78xlo</td>\n",
       "      <td>axps4XstiBOmrDeG</td>\n",
       "      <td>1565.0</td>\n",
       "      <td>Red</td>\n",
       "      <td>Chinese</td>\n",
       "      <td>1</td>\n",
       "      <td>False</td>\n",
       "    </tr>\n",
       "    <tr>\n",
       "      <th>1</th>\n",
       "      <td>zsyvxRyzLh85YIba</td>\n",
       "      <td>axps4XstiBOmrDeG</td>\n",
       "      <td>1600.0</td>\n",
       "      <td>Blue</td>\n",
       "      <td>Goths</td>\n",
       "      <td>2</td>\n",
       "      <td>True</td>\n",
       "    </tr>\n",
       "    <tr>\n",
       "      <th>2</th>\n",
       "      <td>CHrJISNtjKDKM114</td>\n",
       "      <td>uQdosqwC7uiQ78ya</td>\n",
       "      <td>2145.0</td>\n",
       "      <td>Orange</td>\n",
       "      <td>Incas</td>\n",
       "      <td>1</td>\n",
       "      <td>False</td>\n",
       "    </tr>\n",
       "    <tr>\n",
       "      <th>3</th>\n",
       "      <td>X147inwVdQuaegxT</td>\n",
       "      <td>uQdosqwC7uiQ78ya</td>\n",
       "      <td>2124.0</td>\n",
       "      <td>Green</td>\n",
       "      <td>Tatars</td>\n",
       "      <td>2</td>\n",
       "      <td>True</td>\n",
       "    </tr>\n",
       "    <tr>\n",
       "      <th>4</th>\n",
       "      <td>kNckdaCe6pjKm6Au</td>\n",
       "      <td>uQdosqwC7uiQ78ya</td>\n",
       "      <td>2105.0</td>\n",
       "      <td>Red</td>\n",
       "      <td>Magyars</td>\n",
       "      <td>1</td>\n",
       "      <td>False</td>\n",
       "    </tr>\n",
       "  </tbody>\n",
       "</table>\n",
       "</div>"
      ],
      "text/plain": [
       "              token             match  rating   color      civ  team  winner\n",
       "0  rFWxLAdY6TF78xlo  axps4XstiBOmrDeG  1565.0     Red  Chinese     1   False\n",
       "1  zsyvxRyzLh85YIba  axps4XstiBOmrDeG  1600.0    Blue    Goths     2    True\n",
       "2  CHrJISNtjKDKM114  uQdosqwC7uiQ78ya  2145.0  Orange    Incas     1   False\n",
       "3  X147inwVdQuaegxT  uQdosqwC7uiQ78ya  2124.0   Green   Tatars     2    True\n",
       "4  kNckdaCe6pjKm6Au  uQdosqwC7uiQ78ya  2105.0     Red  Magyars     1   False"
      ]
     },
     "execution_count": 3,
     "metadata": {},
     "output_type": "execute_result"
    }
   ],
   "source": [
    "players_df = pd.read_csv('../data/raw/match_players.csv')\n",
    "players_df.head()"
   ]
  },
  {
   "cell_type": "markdown",
   "metadata": {},
   "source": [
    "## **Let's start with exploring the Matches Dataset**\n",
    "***"
   ]
  },
  {
   "cell_type": "code",
   "execution_count": 4,
   "metadata": {},
   "outputs": [
    {
     "data": {
      "text/plain": [
       "(3153767, 11)"
      ]
     },
     "execution_count": 4,
     "metadata": {},
     "output_type": "execute_result"
    }
   ],
   "source": [
    "matches_df.shape"
   ]
  },
  {
   "cell_type": "code",
   "execution_count": 5,
   "metadata": {},
   "outputs": [
    {
     "data": {
      "text/plain": [
       "token              object\n",
       "winning_team        int64\n",
       "mirror               bool\n",
       "ladder             object\n",
       "patch               int64\n",
       "average_rating    float64\n",
       "map                object\n",
       "map_size           object\n",
       "num_players         int64\n",
       "server             object\n",
       "duration           object\n",
       "dtype: object"
      ]
     },
     "execution_count": 5,
     "metadata": {},
     "output_type": "execute_result"
    }
   ],
   "source": [
    "matches_df.dtypes"
   ]
  },
  {
   "cell_type": "code",
   "execution_count": 6,
   "metadata": {},
   "outputs": [
    {
     "data": {
      "text/html": [
       "<div>\n",
       "<style scoped>\n",
       "    .dataframe tbody tr th:only-of-type {\n",
       "        vertical-align: middle;\n",
       "    }\n",
       "\n",
       "    .dataframe tbody tr th {\n",
       "        vertical-align: top;\n",
       "    }\n",
       "\n",
       "    .dataframe thead th {\n",
       "        text-align: right;\n",
       "    }\n",
       "</style>\n",
       "<table border=\"1\" class=\"dataframe\">\n",
       "  <thead>\n",
       "    <tr style=\"text-align: right;\">\n",
       "      <th></th>\n",
       "      <th>token</th>\n",
       "      <th>winning_team</th>\n",
       "      <th>mirror</th>\n",
       "      <th>ladder</th>\n",
       "      <th>patch</th>\n",
       "      <th>average_rating</th>\n",
       "      <th>map</th>\n",
       "      <th>map_size</th>\n",
       "      <th>num_players</th>\n",
       "      <th>server</th>\n",
       "      <th>duration</th>\n",
       "    </tr>\n",
       "  </thead>\n",
       "  <tbody>\n",
       "    <tr>\n",
       "      <th>count</th>\n",
       "      <td>3153767</td>\n",
       "      <td>3.153767e+06</td>\n",
       "      <td>3153767</td>\n",
       "      <td>3153767</td>\n",
       "      <td>3.153767e+06</td>\n",
       "      <td>2.990459e+06</td>\n",
       "      <td>3153767</td>\n",
       "      <td>3153767</td>\n",
       "      <td>3.153767e+06</td>\n",
       "      <td>3153767</td>\n",
       "      <td>3153767</td>\n",
       "    </tr>\n",
       "    <tr>\n",
       "      <th>unique</th>\n",
       "      <td>3153767</td>\n",
       "      <td>NaN</td>\n",
       "      <td>2</td>\n",
       "      <td>2</td>\n",
       "      <td>NaN</td>\n",
       "      <td>NaN</td>\n",
       "      <td>47</td>\n",
       "      <td>4</td>\n",
       "      <td>NaN</td>\n",
       "      <td>9</td>\n",
       "      <td>62123</td>\n",
       "    </tr>\n",
       "    <tr>\n",
       "      <th>top</th>\n",
       "      <td>B2c2Ad6Uf6TVL5uk</td>\n",
       "      <td>NaN</td>\n",
       "      <td>False</td>\n",
       "      <td>RM_1v1</td>\n",
       "      <td>NaN</td>\n",
       "      <td>NaN</td>\n",
       "      <td>arabia</td>\n",
       "      <td>tiny</td>\n",
       "      <td>NaN</td>\n",
       "      <td>ukwest</td>\n",
       "      <td>0:31:29</td>\n",
       "    </tr>\n",
       "    <tr>\n",
       "      <th>freq</th>\n",
       "      <td>1</td>\n",
       "      <td>NaN</td>\n",
       "      <td>3005287</td>\n",
       "      <td>2152662</td>\n",
       "      <td>NaN</td>\n",
       "      <td>NaN</td>\n",
       "      <td>1174357</td>\n",
       "      <td>2153142</td>\n",
       "      <td>NaN</td>\n",
       "      <td>1462621</td>\n",
       "      <td>5189</td>\n",
       "    </tr>\n",
       "    <tr>\n",
       "      <th>mean</th>\n",
       "      <td>NaN</td>\n",
       "      <td>1.506349e+00</td>\n",
       "      <td>NaN</td>\n",
       "      <td>NaN</td>\n",
       "      <td>3.914588e+04</td>\n",
       "      <td>1.271157e+03</td>\n",
       "      <td>NaN</td>\n",
       "      <td>NaN</td>\n",
       "      <td>3.085992e+00</td>\n",
       "      <td>NaN</td>\n",
       "      <td>NaN</td>\n",
       "    </tr>\n",
       "    <tr>\n",
       "      <th>std</th>\n",
       "      <td>NaN</td>\n",
       "      <td>4.999731e-01</td>\n",
       "      <td>NaN</td>\n",
       "      <td>NaN</td>\n",
       "      <td>2.345165e+03</td>\n",
       "      <td>3.669538e+02</td>\n",
       "      <td>NaN</td>\n",
       "      <td>NaN</td>\n",
       "      <td>1.827453e+00</td>\n",
       "      <td>NaN</td>\n",
       "      <td>NaN</td>\n",
       "    </tr>\n",
       "    <tr>\n",
       "      <th>min</th>\n",
       "      <td>NaN</td>\n",
       "      <td>-1.000000e+00</td>\n",
       "      <td>NaN</td>\n",
       "      <td>NaN</td>\n",
       "      <td>3.558400e+04</td>\n",
       "      <td>1.010000e+02</td>\n",
       "      <td>NaN</td>\n",
       "      <td>NaN</td>\n",
       "      <td>2.000000e+00</td>\n",
       "      <td>NaN</td>\n",
       "      <td>NaN</td>\n",
       "    </tr>\n",
       "    <tr>\n",
       "      <th>25%</th>\n",
       "      <td>NaN</td>\n",
       "      <td>1.000000e+00</td>\n",
       "      <td>NaN</td>\n",
       "      <td>NaN</td>\n",
       "      <td>3.690600e+04</td>\n",
       "      <td>1.012000e+03</td>\n",
       "      <td>NaN</td>\n",
       "      <td>NaN</td>\n",
       "      <td>2.000000e+00</td>\n",
       "      <td>NaN</td>\n",
       "      <td>NaN</td>\n",
       "    </tr>\n",
       "    <tr>\n",
       "      <th>50%</th>\n",
       "      <td>NaN</td>\n",
       "      <td>2.000000e+00</td>\n",
       "      <td>NaN</td>\n",
       "      <td>NaN</td>\n",
       "      <td>3.951500e+04</td>\n",
       "      <td>1.198000e+03</td>\n",
       "      <td>NaN</td>\n",
       "      <td>NaN</td>\n",
       "      <td>2.000000e+00</td>\n",
       "      <td>NaN</td>\n",
       "      <td>NaN</td>\n",
       "    </tr>\n",
       "    <tr>\n",
       "      <th>75%</th>\n",
       "      <td>NaN</td>\n",
       "      <td>2.000000e+00</td>\n",
       "      <td>NaN</td>\n",
       "      <td>NaN</td>\n",
       "      <td>4.087400e+04</td>\n",
       "      <td>1.451000e+03</td>\n",
       "      <td>NaN</td>\n",
       "      <td>NaN</td>\n",
       "      <td>4.000000e+00</td>\n",
       "      <td>NaN</td>\n",
       "      <td>NaN</td>\n",
       "    </tr>\n",
       "    <tr>\n",
       "      <th>max</th>\n",
       "      <td>NaN</td>\n",
       "      <td>2.000000e+00</td>\n",
       "      <td>NaN</td>\n",
       "      <td>NaN</td>\n",
       "      <td>4.321000e+04</td>\n",
       "      <td>3.131000e+03</td>\n",
       "      <td>NaN</td>\n",
       "      <td>NaN</td>\n",
       "      <td>8.000000e+00</td>\n",
       "      <td>NaN</td>\n",
       "      <td>NaN</td>\n",
       "    </tr>\n",
       "  </tbody>\n",
       "</table>\n",
       "</div>"
      ],
      "text/plain": [
       "                   token  winning_team   mirror   ladder         patch  \\\n",
       "count            3153767  3.153767e+06  3153767  3153767  3.153767e+06   \n",
       "unique           3153767           NaN        2        2           NaN   \n",
       "top     B2c2Ad6Uf6TVL5uk           NaN    False   RM_1v1           NaN   \n",
       "freq                   1           NaN  3005287  2152662           NaN   \n",
       "mean                 NaN  1.506349e+00      NaN      NaN  3.914588e+04   \n",
       "std                  NaN  4.999731e-01      NaN      NaN  2.345165e+03   \n",
       "min                  NaN -1.000000e+00      NaN      NaN  3.558400e+04   \n",
       "25%                  NaN  1.000000e+00      NaN      NaN  3.690600e+04   \n",
       "50%                  NaN  2.000000e+00      NaN      NaN  3.951500e+04   \n",
       "75%                  NaN  2.000000e+00      NaN      NaN  4.087400e+04   \n",
       "max                  NaN  2.000000e+00      NaN      NaN  4.321000e+04   \n",
       "\n",
       "        average_rating      map map_size   num_players   server duration  \n",
       "count     2.990459e+06  3153767  3153767  3.153767e+06  3153767  3153767  \n",
       "unique             NaN       47        4           NaN        9    62123  \n",
       "top                NaN   arabia     tiny           NaN   ukwest  0:31:29  \n",
       "freq               NaN  1174357  2153142           NaN  1462621     5189  \n",
       "mean      1.271157e+03      NaN      NaN  3.085992e+00      NaN      NaN  \n",
       "std       3.669538e+02      NaN      NaN  1.827453e+00      NaN      NaN  \n",
       "min       1.010000e+02      NaN      NaN  2.000000e+00      NaN      NaN  \n",
       "25%       1.012000e+03      NaN      NaN  2.000000e+00      NaN      NaN  \n",
       "50%       1.198000e+03      NaN      NaN  2.000000e+00      NaN      NaN  \n",
       "75%       1.451000e+03      NaN      NaN  4.000000e+00      NaN      NaN  \n",
       "max       3.131000e+03      NaN      NaN  8.000000e+00      NaN      NaN  "
      ]
     },
     "execution_count": 6,
     "metadata": {},
     "output_type": "execute_result"
    }
   ],
   "source": [
    "matches_df.describe(include='all')"
   ]
  },
  {
   "cell_type": "code",
   "execution_count": 7,
   "metadata": {},
   "outputs": [
    {
     "data": {
      "text/plain": [
       "token                  0\n",
       "winning_team           0\n",
       "mirror                 0\n",
       "ladder                 0\n",
       "patch                  0\n",
       "average_rating    163308\n",
       "map                    0\n",
       "map_size               0\n",
       "num_players            0\n",
       "server                 0\n",
       "duration               0\n",
       "dtype: int64"
      ]
     },
     "execution_count": 7,
     "metadata": {},
     "output_type": "execute_result"
    }
   ],
   "source": [
    "# Is there any null data?\n",
    "(\n",
    "matches_df\n",
    ".isnull()\n",
    ".sum()\n",
    " )\n"
   ]
  },
  {
   "cell_type": "code",
   "execution_count": 8,
   "metadata": {},
   "outputs": [
    {
     "name": "stdout",
     "output_type": "stream",
     "text": [
      "The Percentage of null data is: 5.18%\n"
     ]
    }
   ],
   "source": [
    "null_percentage = np.round((matches_df.isnull().sum().sum()*100)/(matches_df.shape[0]), 2)\n",
    "print('The Percentage of null data is: {}%'.format(null_percentage))"
   ]
  },
  {
   "cell_type": "markdown",
   "metadata": {},
   "source": [
    "We have **5,18%** of our data as **null**, all of it belonging to the _average_rating_ column, this is probably because, as the game's leaderboard interface states, the ELO (which is used to calculate the _average_rating_ column of the dataset) of a player is calculated after he has participated in at least in 10 games.  We will delete that 5%\n",
    "\n",
    "We have to take into consideration that the ELO of players is discriminated betweeen 1vs1 and Team Match, so they can't be analyzed as beign equal.\n",
    "\n",
    "*You can learn more about the ELO rating system **[here](https://en.wikipedia.org/wiki/Elo_rating_system)**"
   ]
  },
  {
   "cell_type": "code",
   "execution_count": 9,
   "metadata": {},
   "outputs": [
    {
     "data": {
      "text/plain": [
       "(2990459, 11)"
      ]
     },
     "execution_count": 9,
     "metadata": {},
     "output_type": "execute_result"
    }
   ],
   "source": [
    "#droping the null values\n",
    "matches_df = matches_df.dropna()\n",
    "matches_df.shape"
   ]
  },
  {
   "cell_type": "code",
   "execution_count": 10,
   "metadata": {},
   "outputs": [
    {
     "data": {
      "text/plain": [
       "ladder\n",
       "RM_1v1     2078744\n",
       "RM_TEAM     911715\n",
       "Name: count, dtype: int64"
      ]
     },
     "execution_count": 10,
     "metadata": {},
     "output_type": "execute_result"
    }
   ],
   "source": [
    "# Whats the proportion of Games \n",
    "(\n",
    "    matches_df\n",
    "    .ladder\n",
    "    .value_counts()\n",
    "    )"
   ]
  },
  {
   "cell_type": "code",
   "execution_count": 11,
   "metadata": {},
   "outputs": [
    {
     "data": {
      "image/png": "[encoded data removed]",
      "text/plain": [
       "<Figure size 640x480 with 1 Axes>"
      ]
     },
     "metadata": {},
     "output_type": "display_data"
    }
   ],
   "source": [
    "#Let's see the proportion of games in a graphic way\n",
    "\n",
    "data = matches_df.ladder.value_counts()\n",
    "data2 = [2078744, 911715]\n",
    "labels =['RM_1v1', 'RM_Team']\n",
    "\n",
    "palette_color = sns.color_palette('Dark2') \n",
    "plt.pie(data, labels=labels, colors=palette_color, autopct= '%1.1f%%')\n",
    "plt.title('Proportion of Ranked Games 1v1 vs Team');\n",
    "\n",
    "\n"
   ]
  },
  {
   "cell_type": "code",
   "execution_count": 12,
   "metadata": {},
   "outputs": [
    {
     "data": {
      "text/plain": [
       "ladder\n",
       "RM_1v1     1147.667255\n",
       "RM_TEAM    1552.717196\n",
       "Name: average_rating, dtype: float64"
      ]
     },
     "execution_count": 12,
     "metadata": {},
     "output_type": "execute_result"
    }
   ],
   "source": [
    "# Let's see the average ELO by Ladder\n",
    "means_rm = matches_df.groupby(['ladder']).average_rating.mean()\n",
    "means_rm\n",
    "\n"
   ]
  },
  {
   "cell_type": "code",
   "execution_count": 13,
   "metadata": {},
   "outputs": [
    {
     "data": {
      "text/plain": [
       "''"
      ]
     },
     "execution_count": 13,
     "metadata": {},
     "output_type": "execute_result"
    },
    {
     "data": {
      "image/png": "[encoded data removed]",
      "text/plain": [
       "<Figure size 640x480 with 1 Axes>"
      ]
     },
     "metadata": {},
     "output_type": "display_data"
    }
   ],
   "source": [
    "#let's see how it's the ELO distribution among players and Ladder\n",
    "ax = sns.kdeplot(\n",
    "     data = matches_df, \n",
    "     x='average_rating', \n",
    "     hue='ladder', \n",
    "     multiple=\"stack\"\n",
    "     )\n",
    "plt.axvline(\n",
    "    x=means_rm.iloc[0],\n",
    "    linestyle='dashed',\n",
    "    color= 'blue',\n",
    "    alpha = 0.5\n",
    ")\n",
    "plt.axvline(\n",
    "    x=means_rm.iloc[1],\n",
    "    linestyle='dashed',\n",
    "    color= 'orange',\n",
    "    alpha = 0.5\n",
    ")\n",
    "ax.set_title('ElO Distribution per Ladder')\n",
    "for i in range(len(means_rm)):\n",
    "    ax.annotate(str(np.round(means_rm.iloc[i],2)),[means_rm.iloc[i],0.0008], rotation=90, ha='right')\n",
    "ax.legend(labels=['RM_1v1','RM_TEAM', 'RM_1v1 Mean', 'RM_Team Mean']);"
   ]
  },
  {
   "cell_type": "markdown",
   "metadata": {},
   "source": [
    "As we can see in the upper plot, the average ELO of the RM ladder is almost 400 points above the ELO of the 1v1 ladder, this could signify two things\n",
    "\n",
    "- It's very plausible that the Higher Team Match ELO it's due to the collective effort of the team, making possible to compensate the individual mistakes a player can make, contrary to a 1v1 match when there is less room for mistakes. In the same line of thought we have to take into account that the specific weaknesss of a civilization can be also compensated by an ally's civilization pick, and even there are some civilization combos with very good sinergies that boost their natural advantages.\n",
    "\n",
    "\n",
    "- In the 1v1 Ladder the possibility of victory is much more realiable on a good pick of civilization, map and strategy. Meaning that the player must have the knowledge to apply the correct combo of them, the correct openning and the skill required to execute it. That means that \n",
    "\n",
    "-"
   ]
  },
  {
   "cell_type": "code",
   "execution_count": 21,
   "metadata": {},
   "outputs": [
    {
     "data": {
      "text/plain": [
       "{'ukwest': 1386196,\n",
       " 'eastus': 561528,\n",
       " 'brazilsouth': 449770,\n",
       " 'westindia': 157264,\n",
       " 'southeastasia': 140361,\n",
       " 'westus2': 115072,\n",
       " 'australiasoutheast': 79685,\n",
       " 'westeurope': 65546,\n",
       " 'koreacentral': 35037}"
      ]
     },
     "execution_count": 21,
     "metadata": {},
     "output_type": "execute_result"
    }
   ],
   "source": [
    "server_counts = dict(matches_df.server.value_counts())\n",
    "server_counts\n"
   ]
  },
  {
   "cell_type": "code",
   "execution_count": 22,
   "metadata": {},
   "outputs": [
    {
     "data": {
      "text/plain": [
       "''"
      ]
     },
     "execution_count": 22,
     "metadata": {},
     "output_type": "execute_result"
    },
    {
     "data": {
      "image/png": "[encoded data removed]",
      "text/plain": [
       "<Figure size 640x480 with 1 Axes>"
      ]
     },
     "metadata": {},
     "output_type": "display_data"
    }
   ],
   "source": [
    "plt.pie(server_counts.values(), labels=server_counts.keys(), autopct= '%1.1f%%', radius = 1.1)\n",
    "plt.title('Proportion of Ranked per server', loc = 'center');\n",
    ";"
   ]
  },
  {
   "cell_type": "markdown",
   "metadata": {},
   "source": [
    "As we can see the game is very popular in Europe (arround 48.8% of the games were played in the ukwest and westeurope servers) and in the American continent (37.6% of the games were played in the eastus brazilsout and westus2 servers)"
   ]
  },
  {
   "cell_type": "code",
   "execution_count": 27,
   "metadata": {},
   "outputs": [
    {
     "data": {
      "text/plain": [
       "ladder   map            \n",
       "RM_1v1   arabia             893914\n",
       "         arena              248480\n",
       "         four_lakes         138015\n",
       "         golden_pit         107552\n",
       "         hideout            100854\n",
       "                             ...  \n",
       "RM_TEAM  migration            1694\n",
       "         islands              1646\n",
       "         ravines              1509\n",
       "         pacific_islands      1209\n",
       "         coastal               154\n",
       "Name: count, Length: 77, dtype: int64"
      ]
     },
     "execution_count": 27,
     "metadata": {},
     "output_type": "execute_result"
    }
   ],
   "source": [
    "# Let's see the most popular maps per ladder\n",
    "maps_1v1 = matches_df[matches_df['ladder']=='RM_1v1']\n",
    "maps_team = matches_df[matches_df['ladder']=='RM_TEAM']"
   ]
  },
  {
   "cell_type": "code",
   "execution_count": 63,
   "metadata": {},
   "outputs": [
    {
     "data": {
      "text/plain": [
       "map\n",
       "arabia        43.002602\n",
       "arena         11.953372\n",
       "four_lakes     6.639346\n",
       "golden_pit     5.173893\n",
       "hideout        4.851680\n",
       "Name: count, dtype: float64"
      ]
     },
     "execution_count": 63,
     "metadata": {},
     "output_type": "execute_result"
    }
   ],
   "source": [
    "# 1v1 Maps\n",
    "(maps_1v1['map'].value_counts()[:5])*100/data2[0]"
   ]
  },
  {
   "cell_type": "code",
   "execution_count": 64,
   "metadata": {},
   "outputs": [
    {
     "data": {
      "text/plain": [
       "map\n",
       "arabia          25.725473\n",
       "arena           16.540915\n",
       "lombardia        7.121743\n",
       "black_forest     5.904257\n",
       "megarandom       5.477260\n",
       "Name: count, dtype: float64"
      ]
     },
     "execution_count": 64,
     "metadata": {},
     "output_type": "execute_result"
    }
   ],
   "source": [
    "# Team_RM maps\n",
    "(maps_team['map'].value_counts()[:5]*100/data2[1])\n",
    "\n"
   ]
  },
  {
   "cell_type": "markdown",
   "metadata": {},
   "source": [
    "* In the 1v1 Ladder, the absolute winner in the map pool is Arabia (with 43% of the games played), this is due to [Arabia](https://liquipedia.net/ageofempires/Arabia) being the standart for 1v1 since the inception of the competitive scene in **[Voobly](https://www.voobly.com/games/view/Age-of-Empires-II-The-Conquerors)** in the early 2000's, and the the reason for that it's quite simple, Arabia was the first map in alphabetic order to show up in the map pool. \n",
    "The second one is [Arena](https://liquipedia.net/ageofempires/Arena) (with 12% of the games played), which it's a defensive one since the players start with walls arround their base making the game a little bit easier for most players since there is no chance for early agressions.\n",
    "The next 3 popular maps are [Four Lakes](https://liquipedia.net/ageofempires/Four_Lakes) (6,6%), [Golden Pit](https://liquipedia.net/ageofempires/Golden_Pit) (5,1%), and [Hideout](https://liquipedia.net/ageofempires/Hideout) (4,8%)\n",
    "* On the Team Ladder, we have the same situation with the number one being Arabia (25,7%) and number two Arena (16,5%), meaning that those maps are meaningfull for the community, the next 3 maps are [Lombardía](https://liquipedia.net/ageofempires/Lombardia) (7.1%), [Black Forest](https://liquipedia.net/ageofempires/Black_Forest) (5,9%) and [Megarandom](https://liquipedia.net/ageofempires/MegaRandom) (5,4%)"
   ]
  },
  {
   "cell_type": "markdown",
   "metadata": {},
   "source": [
    "In the 1v1 Ladder the "
   ]
  },
  {
   "cell_type": "code",
   "execution_count": null,
   "metadata": {},
   "outputs": [],
   "source": []
  }
 ],
 "metadata": {
  "kernelspec": {
   "display_name": "Python 3",
   "language": "python",
   "name": "python3"
  },
  "language_info": {
   "codemirror_mode": {
    "name": "ipython",
    "version": 3
   },
   "file_extension": ".py",
   "mimetype": "text/x-python",
   "name": "python",
   "nbconvert_exporter": "python",
   "pygments_lexer": "ipython3",
   "version": "3.11.9"
  }
 },
 "nbformat": 4,
 "nbformat_minor": 2
}
